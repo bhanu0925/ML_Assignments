{
  "cells": [
    {
      "cell_type": "markdown",
      "metadata": {
        "id": "view-in-github",
        "colab_type": "text"
      },
      "source": [
        "<a href=\"https://colab.research.google.com/github/bhanu0925/ML_Assignments/blob/main/ML_Assignment_08.ipynb\" target=\"_parent\"><img src=\"https://colab.research.google.com/assets/colab-badge.svg\" alt=\"Open In Colab\"/></a>"
      ]
    },
    {
      "cell_type": "markdown",
      "id": "b2aa57f2",
      "metadata": {
        "id": "b2aa57f2"
      },
      "source": [
        "# ML_Assignment_08"
      ]
    },
    {
      "cell_type": "markdown",
      "id": "19d4f3bd",
      "metadata": {
        "id": "19d4f3bd"
      },
      "source": [
        "##### 1. What exactly is a feature? Give an example to illustrate your point ?"
      ]
    },
    {
      "cell_type": "markdown",
      "id": "797d1cdb",
      "metadata": {
        "id": "797d1cdb"
      },
      "source": [
        "**Ans:** Features are the basic building blocks of datasets. The quality of the features in your dataset has a major impact on the quality of the insights you will gain when you use that dataset for machine learning. \n",
        "\n",
        "Additionally, different business problems within the same industry do not necessarily require the same features, which is why it is important to have a strong understanding of the business goals of your data science project."
      ]
    },
    {
      "cell_type": "markdown",
      "id": "941bc9d9",
      "metadata": {
        "id": "941bc9d9"
      },
      "source": [
        "##### 2. What are the various circumstances in which feature construction is required ?"
      ]
    },
    {
      "cell_type": "markdown",
      "id": "08f0d0e7",
      "metadata": {
        "id": "08f0d0e7"
      },
      "source": [
        "**Ans:** The features in your data will directly influence the predictive models you use and the results you can achieve. Your results are dependent on many inter-dependent properties. You need great features that describe the structures inherent in your data. Better features means flexibility."
      ]
    },
    {
      "cell_type": "markdown",
      "id": "3a53a7ce",
      "metadata": {
        "id": "3a53a7ce"
      },
      "source": [
        "##### 3. Describe how nominal variables are encoded ?"
      ]
    },
    {
      "cell_type": "markdown",
      "id": "0b3b1d24",
      "metadata": {
        "id": "0b3b1d24"
      },
      "source": [
        "**Ans:** Nominal data is made of discrete values with no numerical relationship between the different categories —  mean and median are meaningless. Animal species is one example. For example, pig is not higher than bird and lower than fish."
      ]
    },
    {
      "cell_type": "markdown",
      "id": "c4de4555",
      "metadata": {
        "id": "c4de4555"
      },
      "source": [
        "##### 4. Describe how numeric features are converted to categorical features ?"
      ]
    },
    {
      "cell_type": "markdown",
      "id": "7a2ce760",
      "metadata": {
        "id": "7a2ce760"
      },
      "source": [
        "**Ans:** Converting categorical features into numeric features using domain knowledge. For example, we are given a list of countries and say we know the distance to these countries from India then we can replace it with distance from India. So, every country can be represented as its distance from India."
      ]
    },
    {
      "cell_type": "markdown",
      "id": "d6109820",
      "metadata": {
        "id": "d6109820"
      },
      "source": [
        "##### 5. Describe the feature selection wrapper approach. State the advantages and disadvantages of this approach ?"
      ]
    },
    {
      "cell_type": "markdown",
      "id": "72de65b0",
      "metadata": {
        "id": "72de65b0"
      },
      "source": [
        "**Ans:** Wrapper methods measure the “usefulness” of features based on the classifier performance. In contrast, the filter methods pick up the intrinsic properties of the features (i.e., the “relevance” of the features) measured via univariate statistics instead of cross-validation performance.\n",
        "\n",
        "The wrapper classification algorithms with joint dimensionality reduction and classification can also be used but these methods have high computation cost, lower discriminative power. Moreover, these methods depend on the efficient selection of classifiers for obtaining high accuracy"
      ]
    },
    {
      "cell_type": "markdown",
      "id": "51584401",
      "metadata": {
        "id": "51584401"
      },
      "source": [
        "##### 6. When is a feature considered irrelevant? What can be said to quantify it ?"
      ]
    },
    {
      "cell_type": "markdown",
      "id": "a2a92af6",
      "metadata": {
        "id": "a2a92af6"
      },
      "source": [
        "**Ans:** Features are considered relevant if they are either strongly or weakly relevant, and are considered irrelevant otherwise. \n",
        "\n",
        "Irrelevant features can never contribute to prediction accuracy, by definition. Also to quantify it we need to first check the list of features, There are three types of feature selection:\n",
        "\n",
        "- **Wrapper methods** (forward, backward, and stepwise selection)\n",
        "- **Filter methods** (ANOVA, Pearson correlation, variance thresholding)\n",
        "- **Embedded methods** (Lasso, Ridge, Decision Tree)."
      ]
    },
    {
      "cell_type": "markdown",
      "id": "3d21fc3f",
      "metadata": {
        "id": "3d21fc3f"
      },
      "source": [
        "##### 7. When is a function considered redundant? What criteria are used to identify features that could be redundant ?"
      ]
    },
    {
      "cell_type": "markdown",
      "id": "8d0ce42e",
      "metadata": {
        "id": "8d0ce42e"
      },
      "source": [
        "**Ans:** If two features `{X1, X2}` are highly correlated, then the two features become redundant features since they have same information in terms of correlation measure. In other words, the correlation measure provides statistical association between any given a pair of features. \n",
        "\n",
        "Minimum redundancy feature selection is an algorithm frequently used in a method to accurately identify characteristics of genes and phenotypes"
      ]
    },
    {
      "cell_type": "markdown",
      "id": "7bd4a123",
      "metadata": {
        "id": "7bd4a123"
      },
      "source": [
        "##### 8. What are the various distance measurements used to determine feature similarity ?"
      ]
    },
    {
      "cell_type": "markdown",
      "id": "ed81d5c4",
      "metadata": {
        "id": "ed81d5c4"
      },
      "source": [
        "**Ans:** Four of the most commonly used distance measures in machine learning are as follows: \n",
        "- Hamming Distance. \n",
        "- Euclidean Distance\n",
        "- Manhattan Distance."
      ]
    },
    {
      "cell_type": "markdown",
      "id": "e4d6004e",
      "metadata": {
        "id": "e4d6004e"
      },
      "source": [
        "##### 9. State difference between Euclidean and Manhattan distances ?"
      ]
    },
    {
      "cell_type": "markdown",
      "id": "a39944ba",
      "metadata": {
        "id": "a39944ba"
      },
      "source": [
        "**Ans:** Euclidean & Hamming distances are used to measure similarity or dissimilarity between two sequences. Euclidean distance is extensively applied in analysis of convolutional codes and Trellis codes.\n",
        "\n",
        "Hamming distance is frequently encountered in the analysis of block codes."
      ]
    },
    {
      "cell_type": "markdown",
      "id": "d8a5cfd2",
      "metadata": {
        "id": "d8a5cfd2"
      },
      "source": [
        "##### 10. Distinguish between feature transformation and feature selection ?"
      ]
    },
    {
      "cell_type": "markdown",
      "id": "722dfcff",
      "metadata": {
        "id": "722dfcff"
      },
      "source": [
        "**Ans:** Feature selection is for filtering irrelevant or redundant features from your dataset. The key difference between feature selection and extraction is that feature selection keeps a subset of the original features while feature extraction creates brand new ones."
      ]
    }
  ],
  "metadata": {
    "kernelspec": {
      "display_name": "Python 3",
      "language": "python",
      "name": "python3"
    },
    "language_info": {
      "codemirror_mode": {
        "name": "ipython",
        "version": 3
      },
      "file_extension": ".py",
      "mimetype": "text/x-python",
      "name": "python",
      "nbconvert_exporter": "python",
      "pygments_lexer": "ipython3",
      "version": "3.8.8"
    },
    "colab": {
      "name": "ML_Assignment_08.ipynb",
      "provenance": [],
      "include_colab_link": true
    }
  },
  "nbformat": 4,
  "nbformat_minor": 5
}